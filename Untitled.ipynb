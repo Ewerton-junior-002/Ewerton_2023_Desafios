{
 "cells": [
  {
   "cell_type": "code",
   "execution_count": 1,
   "id": "3af449fe",
   "metadata": {},
   "outputs": [],
   "source": [
    "list_nm=[]"
   ]
  },
  {
   "cell_type": "code",
   "execution_count": null,
   "id": "e0afb6bb",
   "metadata": {},
   "outputs": [],
   "source": []
  },
  {
   "cell_type": "code",
   "execution_count": 3,
   "id": "2d385f37",
   "metadata": {},
   "outputs": [],
   "source": [
    "list_nm.append(2013)"
   ]
  },
  {
   "cell_type": "code",
   "execution_count": 5,
   "id": "df385f7a",
   "metadata": {},
   "outputs": [
    {
     "name": "stdout",
     "output_type": "stream",
     "text": [
      "[2013]\n"
     ]
    }
   ],
   "source": [
    "print(list_nm)"
   ]
  },
  {
   "cell_type": "code",
   "execution_count": 6,
   "id": "bf70b6b0",
   "metadata": {},
   "outputs": [],
   "source": [
    "for year in range(2014, 2023):\n",
    "    list_nm.append(year)\n",
    "    "
   ]
  },
  {
   "cell_type": "code",
   "execution_count": 7,
   "id": "4bd0df9d",
   "metadata": {},
   "outputs": [
    {
     "name": "stdout",
     "output_type": "stream",
     "text": [
      "[2013, 2014, 2015, 2016, 2017, 2018, 2019, 2020, 2021, 2022]\n"
     ]
    }
   ],
   "source": [
    "print(list_nm)"
   ]
  },
  {
   "cell_type": "code",
   "execution_count": 15,
   "id": "a2747c19",
   "metadata": {},
   "outputs": [
    {
     "name": "stdout",
     "output_type": "stream",
     "text": [
      "este é o ano 2013 dessa ação\n",
      "teste 123 : 2013\n",
      "este é o ano 2014 dessa ação\n",
      "teste 123 : 2014\n",
      "este é o ano 2015 dessa ação\n",
      "teste 123 : 2015\n",
      "este é o ano 2016 dessa ação\n",
      "teste 123 : 2016\n",
      "este é o ano 2017 dessa ação\n",
      "teste 123 : 2017\n",
      "este é o ano 2018 dessa ação\n",
      "teste 123 : 2018\n",
      "este é o ano 2019 dessa ação\n",
      "Ano que começou a Pandemia ===> 2019\n",
      "este é o ano 2020 dessa ação\n",
      "teste 123 : 2020\n",
      "este é o ano 2021 dessa ação\n",
      "teste 123 : 2021\n",
      "este é o ano 2022 dessa ação\n",
      "teste 123 : 2022\n"
     ]
    }
   ],
   "source": [
    "for ano in list_nm:\n",
    "    print(f'este é o ano {ano} dessa ação' )\n",
    "    if ano == 2019:\n",
    "        print('Ano que começou a Pandemia ===> {}'.format(ano))\n",
    "    else:\n",
    "        print('teste 123 : '+ str(ano) )"
   ]
  },
  {
   "cell_type": "code",
   "execution_count": null,
   "id": "8f2693b8",
   "metadata": {},
   "outputs": [],
   "source": []
  }
 ],
 "metadata": {
  "kernelspec": {
   "display_name": "Python 3 (ipykernel)",
   "language": "python",
   "name": "python3"
  },
  "language_info": {
   "codemirror_mode": {
    "name": "ipython",
    "version": 3
   },
   "file_extension": ".py",
   "mimetype": "text/x-python",
   "name": "python",
   "nbconvert_exporter": "python",
   "pygments_lexer": "ipython3",
   "version": "3.9.12"
  }
 },
 "nbformat": 4,
 "nbformat_minor": 5
}
